{
  "nbformat": 4,
  "nbformat_minor": 0,
  "metadata": {
    "colab": {
      "provenance": []
    },
    "kernelspec": {
      "name": "python3",
      "display_name": "Python 3"
    },
    "language_info": {
      "name": "python"
    }
  },
  "cells": [
    {
      "cell_type": "markdown",
      "source": [
        "# Python Printing and Variable"
      ],
      "metadata": {
        "id": "CQiMkv4c-eAd"
      }
    },
    {
      "cell_type": "code",
      "execution_count": null,
      "metadata": {
        "id": "m8G-XeX7R2as",
        "colab": {
          "base_uri": "https://localhost:8080/"
        },
        "outputId": "15b41972-ab1d-44f6-b49f-b2dad158acfd"
      },
      "outputs": [
        {
          "output_type": "stream",
          "name": "stdout",
          "text": [
            "Hello World!\n"
          ]
        }
      ],
      "source": [
        "print(\"Hello World!\")"
      ]
    },
    {
      "cell_type": "code",
      "source": [
        "x=10\n",
        "print(x)\n",
        "\n",
        "x=20\n",
        "print(x)"
      ],
      "metadata": {
        "colab": {
          "base_uri": "https://localhost:8080/"
        },
        "id": "TVoc0wtWCQPU",
        "outputId": "633bba61-0d7d-4cad-9737-56b31e092cc2"
      },
      "execution_count": null,
      "outputs": [
        {
          "output_type": "stream",
          "name": "stdout",
          "text": [
            "10\n",
            "20\n"
          ]
        }
      ]
    },
    {
      "cell_type": "code",
      "source": [
        "x=5\n",
        "y=10\n",
        "z=x+y\n",
        "print(z)\n"
      ],
      "metadata": {
        "colab": {
          "base_uri": "https://localhost:8080/"
        },
        "id": "L1xQIrh8B2EM",
        "outputId": "5b0b4f9b-8bcb-48f6-d457-8d5d0987da08"
      },
      "execution_count": null,
      "outputs": [
        {
          "output_type": "stream",
          "name": "stdout",
          "text": [
            "15\n"
          ]
        }
      ]
    },
    {
      "cell_type": "code",
      "source": [
        "num1=10\n",
        "num2=20\n",
        "total=num1-num2\n",
        "mytext=\"engineering\"\n",
        "mybool=True\n",
        "\n",
        "#print the type of different variables.\n",
        "print(type(num1))\n",
        "print(type(total))\n",
        "print(type(mytext))\n",
        "print(type(mybool))"
      ],
      "metadata": {
        "colab": {
          "base_uri": "https://localhost:8080/"
        },
        "id": "HzTkIlDyCXeG",
        "outputId": "5d6fbda1-2fee-474d-8114-61ea227aeaed"
      },
      "execution_count": null,
      "outputs": [
        {
          "output_type": "stream",
          "name": "stdout",
          "text": [
            "<class 'int'>\n",
            "<class 'float'>\n",
            "<class 'str'>\n",
            "<class 'bool'>\n"
          ]
        }
      ]
    },
    {
      "cell_type": "code",
      "source": [
        "# Prints the length of the string\n",
        "x=\"Hello World\"\n",
        "len(x)"
      ],
      "metadata": {
        "colab": {
          "base_uri": "https://localhost:8080/"
        },
        "id": "D8LLtJn0DVFy",
        "outputId": "ce3d0a86-289b-44e5-adb2-45df786d04bb"
      },
      "execution_count": null,
      "outputs": [
        {
          "output_type": "execute_result",
          "data": {
            "text/plain": [
              "11"
            ]
          },
          "metadata": {},
          "execution_count": 31
        }
      ]
    },
    {
      "cell_type": "code",
      "source": [
        "#Converts a string to uppercase and lowercase and prints both\n",
        "x.upper()\n",
        "print(x.upper())\n",
        "\n",
        "x.lower()\n",
        "print(x.lower())"
      ],
      "metadata": {
        "colab": {
          "base_uri": "https://localhost:8080/"
        },
        "id": "VroqanE2Y3OX",
        "outputId": "9f506a29-4bd3-4216-fd7b-165c0f0361a5"
      },
      "execution_count": null,
      "outputs": [
        {
          "output_type": "stream",
          "name": "stdout",
          "text": [
            "HELLO WORLD\n",
            "hello world\n"
          ]
        }
      ]
    },
    {
      "cell_type": "markdown",
      "source": [
        "_________________________________________________________________"
      ],
      "metadata": {
        "id": "S0b0Gv3_aRBU"
      }
    },
    {
      "cell_type": "markdown",
      "source": [
        "concatenation function"
      ],
      "metadata": {
        "id": "EbNTSZVrMSC0"
      }
    },
    {
      "cell_type": "code",
      "source": [
        "# how to concatenate strings and add numbers\n",
        "print(\"hello\"+\" \"+\"word\")\n",
        "print(20+8)"
      ],
      "metadata": {
        "colab": {
          "base_uri": "https://localhost:8080/"
        },
        "id": "nVN6yQgEHvjm",
        "outputId": "96923980-d0fd-4502-9e70-de82fbde4561"
      },
      "execution_count": null,
      "outputs": [
        {
          "output_type": "stream",
          "name": "stdout",
          "text": [
            "hello word\n",
            "28\n"
          ]
        }
      ]
    },
    {
      "cell_type": "code",
      "source": [
        "## Error: Cannot concatenate string and integer directly\n",
        "print(\"hello\"+20)"
      ],
      "metadata": {
        "colab": {
          "base_uri": "https://localhost:8080/",
          "height": 141
        },
        "id": "l1ToSL4bZX9M",
        "outputId": "c6bb4d64-aefd-4106-865b-c21883a4d4ca"
      },
      "execution_count": null,
      "outputs": [
        {
          "output_type": "error",
          "ename": "TypeError",
          "evalue": "can only concatenate str (not \"int\") to str",
          "traceback": [
            "\u001b[0;31m---------------------------------------------------------------------------\u001b[0m",
            "\u001b[0;31mTypeError\u001b[0m                                 Traceback (most recent call last)",
            "\u001b[0;32m<ipython-input-34-9e5d1ca4ecf0>\u001b[0m in \u001b[0;36m<cell line: 1>\u001b[0;34m()\u001b[0m\n\u001b[0;32m----> 1\u001b[0;31m \u001b[0mprint\u001b[0m\u001b[0;34m(\u001b[0m\u001b[0;34m\"hello\"\u001b[0m\u001b[0;34m+\u001b[0m\u001b[0;36m20\u001b[0m\u001b[0;34m)\u001b[0m\u001b[0;34m\u001b[0m\u001b[0;34m\u001b[0m\u001b[0m\n\u001b[0m",
            "\u001b[0;31mTypeError\u001b[0m: can only concatenate str (not \"int\") to str"
          ]
        }
      ]
    },
    {
      "cell_type": "code",
      "source": [
        "# Correct way by using str() to convert integer to string\n",
        "print(\"hello\"+str(20)) #or\n",
        "print(\"hello\"+\"20\")"
      ],
      "metadata": {
        "colab": {
          "base_uri": "https://localhost:8080/"
        },
        "id": "t4SuyGVOMHFf",
        "outputId": "cb539273-ca67-428d-c5cb-6944cf82c614"
      },
      "execution_count": null,
      "outputs": [
        {
          "output_type": "stream",
          "name": "stdout",
          "text": [
            "hello20\n",
            "hello20\n"
          ]
        }
      ]
    },
    {
      "cell_type": "markdown",
      "source": [
        "\n",
        " Boolean and comparison operators"
      ],
      "metadata": {
        "id": "IhPDWbbuepU2"
      }
    },
    {
      "cell_type": "code",
      "source": [
        "# use of relational operators and prints the results.\n",
        "x=1>5\n",
        "print(x)\n",
        "\n",
        "\n",
        "x=1<5\n",
        "print(x)\n",
        "\n",
        "\n",
        "x= 1<=5\n",
        "print(x)\n",
        "\n",
        "\n",
        "x= 1!=5\n",
        "print(x)\n",
        "\n",
        "\n",
        "(1<5) and (5>3)\n"
      ],
      "metadata": {
        "colab": {
          "base_uri": "https://localhost:8080/"
        },
        "id": "KiB2SuVSNfy1",
        "outputId": "99b14a7e-7659-4fbc-cc08-feee1c9a96ec"
      },
      "execution_count": null,
      "outputs": [
        {
          "output_type": "stream",
          "name": "stdout",
          "text": [
            "False\n",
            "True\n",
            "True\n",
            "True\n"
          ]
        },
        {
          "output_type": "execute_result",
          "data": {
            "text/plain": [
              "True"
            ]
          },
          "metadata": {},
          "execution_count": 2
        }
      ]
    },
    {
      "cell_type": "markdown",
      "source": [
        "# Python Data Structures"
      ],
      "metadata": {
        "id": "_nYbL0wwyP9f"
      }
    },
    {
      "cell_type": "markdown",
      "source": [
        "List (array)"
      ],
      "metadata": {
        "id": "akCSCseja5kE"
      }
    },
    {
      "cell_type": "code",
      "source": [
        "name1=\"ali\"\n",
        "name2=\"ahmed\"\n",
        "name3=\"hassan\"\n",
        "\n",
        "print(name1)\n",
        "print(name2)\n",
        "print(name3)\n",
        "\n"
      ],
      "metadata": {
        "id": "TpZaz61_jQCz",
        "outputId": "e0895ab0-4e5c-44d4-8529-616765fbed6e",
        "colab": {
          "base_uri": "https://localhost:8080/"
        }
      },
      "execution_count": null,
      "outputs": [
        {
          "output_type": "stream",
          "name": "stdout",
          "text": [
            "ali\n",
            "ahmed\n",
            "hassan\n"
          ]
        }
      ]
    },
    {
      "cell_type": "code",
      "source": [
        "students=[\"ali\",\"ahmad\",\"hassan\",\"omar\",\"alaa\",\"kareem\"]\n",
        "\n",
        "print(students)\n",
        "print(students[0])   # Accesses the first element of the list\n",
        "print(students [3])  #Acesses the fourth element of the list\n",
        "print(students [-1]) #Acesses the last element of the list\n",
        "print(students[0:5]) #Acesses the first 5 elements of the list\n",
        "print(students[1:])  #Acesses the remaining elements of the list\n",
        "print(students[:5])  #Acesses the first 5 elements of the list\n",
        "print(students[:])   #Acesses all the elements of the list"
      ],
      "metadata": {
        "colab": {
          "base_uri": "https://localhost:8080/"
        },
        "id": "38dAWs3JuHgU",
        "outputId": "bc862ff4-db26-4d92-f945-17d0f26aab8a"
      },
      "execution_count": null,
      "outputs": [
        {
          "output_type": "stream",
          "name": "stdout",
          "text": [
            "['ali', 'ahmad', 'hassan', 'omar', 'alaa', 'kareem']\n",
            "ali\n",
            "omar\n",
            "kareem\n",
            "['ali', 'ahmad', 'hassan', 'omar', 'alaa']\n",
            "['ahmad', 'hassan', 'omar', 'alaa', 'kareem']\n",
            "['ali', 'ahmad', 'hassan', 'omar', 'alaa']\n",
            "['ali', 'ahmad', 'hassan', 'omar', 'alaa', 'kareem']\n"
          ]
        }
      ]
    },
    {
      "cell_type": "code",
      "source": [
        "employee=[\"kareem\", 25 , \"medical engineering\"]\n",
        "\n",
        "\n",
        "print(type(employee))         # List type\n",
        "print(type(employee[0]))      # String type\n",
        "print(type(employee[1]))      # Integer type\n",
        "\n",
        "print(employee.count(25))     # Returns the number of times 25 appears in the list\n",
        "\n",
        "len(employee)                 # Returns the length of the list\n"
      ],
      "metadata": {
        "colab": {
          "base_uri": "https://localhost:8080/"
        },
        "id": "rmrjr4sMbO1z",
        "outputId": "2d82df96-3807-4a38-ed54-9b9fe44e8a0a"
      },
      "execution_count": null,
      "outputs": [
        {
          "output_type": "stream",
          "name": "stdout",
          "text": [
            "<class 'list'>\n",
            "<class 'str'>\n",
            "<class 'int'>\n",
            "1\n"
          ]
        },
        {
          "output_type": "execute_result",
          "data": {
            "text/plain": [
              "3"
            ]
          },
          "metadata": {},
          "execution_count": 5
        }
      ]
    },
    {
      "cell_type": "code",
      "source": [
        "print(employee.reverse())        # Reverses the list\n",
        "print(employee)\n",
        "\n",
        "\n",
        "print(employee.append(500))     #add element at the end of the list\n",
        "print(employee)\n",
        "\n",
        "\n",
        "employee.remove(\"kareem\")       #delete element from the list\n",
        "print(employee)\n",
        "\n",
        "\n",
        "employee.insert(0, \"kareem\")    #insert element at the specified index\n",
        "print(employee)\n",
        "\n",
        "\n",
        "\n",
        "employee[1]=\"30\"                #change element at the specified index\n",
        "print(employee)"
      ],
      "metadata": {
        "colab": {
          "base_uri": "https://localhost:8080/"
        },
        "id": "tChrk2qiE2Np",
        "outputId": "f3fa4f04-7c40-4ee8-b3a4-a0caa44b9c2d"
      },
      "execution_count": null,
      "outputs": [
        {
          "output_type": "stream",
          "name": "stdout",
          "text": [
            "None\n",
            "['medical engineering', 25, 'kareem']\n",
            "None\n",
            "['medical engineering', 25, 'kareem', 500]\n",
            "['medical engineering', 25, 500]\n",
            "['kareem', 'medical engineering', 25, 500]\n",
            "['kareem', '30', 25, 500]\n"
          ]
        }
      ]
    },
    {
      "cell_type": "code",
      "source": [
        "numers=[1,5,8,9,32,45]\n",
        "numers.sort()                   #Sorts a list of numbers in ascending order.\n",
        "print(numers)"
      ],
      "metadata": {
        "colab": {
          "base_uri": "https://localhost:8080/"
        },
        "id": "Nu8isNztVQmB",
        "outputId": "8e4fe057-0aae-4a60-8720-1293f505e378"
      },
      "execution_count": null,
      "outputs": [
        {
          "output_type": "stream",
          "name": "stdout",
          "text": [
            "[1, 5, 8, 9, 32, 45]\n"
          ]
        }
      ]
    },
    {
      "cell_type": "markdown",
      "source": [
        "Tuple"
      ],
      "metadata": {
        "id": "p_quMASvWw3U"
      }
    },
    {
      "cell_type": "code",
      "source": [
        "# # Error: Tuples do not support item assignment or modification\n",
        "tuple1= (1,2,3,4,5,6)\n",
        "tuple1.append(10)"
      ],
      "metadata": {
        "colab": {
          "base_uri": "https://localhost:8080/",
          "height": 176
        },
        "id": "l4fctcIHVw8o",
        "outputId": "5a57e27c-6f65-4613-aeaa-d4fc3c297a74"
      },
      "execution_count": null,
      "outputs": [
        {
          "output_type": "error",
          "ename": "AttributeError",
          "evalue": "'tuple' object has no attribute 'append'",
          "traceback": [
            "\u001b[0;31m---------------------------------------------------------------------------\u001b[0m",
            "\u001b[0;31mAttributeError\u001b[0m                            Traceback (most recent call last)",
            "\u001b[0;32m<ipython-input-28-202fa47c7515>\u001b[0m in \u001b[0;36m<cell line: 3>\u001b[0;34m()\u001b[0m\n\u001b[1;32m      1\u001b[0m \u001b[0;31m# # Error: Tuples do not support item assignment or modification\u001b[0m\u001b[0;34m\u001b[0m\u001b[0;34m\u001b[0m\u001b[0m\n\u001b[1;32m      2\u001b[0m \u001b[0mtuple1\u001b[0m\u001b[0;34m=\u001b[0m \u001b[0;34m(\u001b[0m\u001b[0;36m1\u001b[0m\u001b[0;34m,\u001b[0m\u001b[0;36m2\u001b[0m\u001b[0;34m,\u001b[0m\u001b[0;36m3\u001b[0m\u001b[0;34m,\u001b[0m\u001b[0;36m4\u001b[0m\u001b[0;34m,\u001b[0m\u001b[0;36m5\u001b[0m\u001b[0;34m,\u001b[0m\u001b[0;36m6\u001b[0m\u001b[0;34m)\u001b[0m\u001b[0;34m\u001b[0m\u001b[0;34m\u001b[0m\u001b[0m\n\u001b[0;32m----> 3\u001b[0;31m \u001b[0mtuple1\u001b[0m\u001b[0;34m.\u001b[0m\u001b[0mappend\u001b[0m\u001b[0;34m(\u001b[0m\u001b[0;36m10\u001b[0m\u001b[0;34m)\u001b[0m\u001b[0;34m\u001b[0m\u001b[0;34m\u001b[0m\u001b[0m\n\u001b[0m",
            "\u001b[0;31mAttributeError\u001b[0m: 'tuple' object has no attribute 'append'"
          ]
        }
      ]
    },
    {
      "cell_type": "code",
      "source": [
        "## # Error: Tuples do not support item assignment or modification\n",
        "tuple1[1]=10"
      ],
      "metadata": {
        "colab": {
          "base_uri": "https://localhost:8080/",
          "height": 158
        },
        "id": "vC7hM5EfXJ2z",
        "outputId": "32170775-c29e-4ac7-c38a-892dc5fc5a70"
      },
      "execution_count": null,
      "outputs": [
        {
          "output_type": "error",
          "ename": "TypeError",
          "evalue": "'tuple' object does not support item assignment",
          "traceback": [
            "\u001b[0;31m---------------------------------------------------------------------------\u001b[0m",
            "\u001b[0;31mTypeError\u001b[0m                                 Traceback (most recent call last)",
            "\u001b[0;32m<ipython-input-29-abf0787c85ba>\u001b[0m in \u001b[0;36m<cell line: 2>\u001b[0;34m()\u001b[0m\n\u001b[1;32m      1\u001b[0m \u001b[0;31m## # Error: Tuples do not support item assignment or modification\u001b[0m\u001b[0;34m\u001b[0m\u001b[0;34m\u001b[0m\u001b[0m\n\u001b[0;32m----> 2\u001b[0;31m \u001b[0mtuple1\u001b[0m\u001b[0;34m[\u001b[0m\u001b[0;36m1\u001b[0m\u001b[0;34m]\u001b[0m\u001b[0;34m=\u001b[0m\u001b[0;36m10\u001b[0m\u001b[0;34m\u001b[0m\u001b[0;34m\u001b[0m\u001b[0m\n\u001b[0m",
            "\u001b[0;31mTypeError\u001b[0m: 'tuple' object does not support item assignment"
          ]
        }
      ]
    },
    {
      "cell_type": "markdown",
      "source": [
        "Set"
      ],
      "metadata": {
        "id": "BJqByGP0Y6kJ"
      }
    },
    {
      "cell_type": "code",
      "source": [
        "s={1,3,4,5,6,7,8}\n",
        "s"
      ],
      "metadata": {
        "id": "HLLi1w6PYZcB",
        "colab": {
          "base_uri": "https://localhost:8080/"
        },
        "outputId": "0c426e8a-7a3d-412c-9457-51e6ceb0d46b"
      },
      "execution_count": null,
      "outputs": [
        {
          "output_type": "execute_result",
          "data": {
            "text/plain": [
              "{1, 3, 4, 5, 6, 7, 8}"
            ]
          },
          "metadata": {},
          "execution_count": 18
        }
      ]
    },
    {
      "cell_type": "code",
      "source": [
        "s.add(10)\n",
        "s"
      ],
      "metadata": {
        "colab": {
          "base_uri": "https://localhost:8080/"
        },
        "id": "2DjJafrwY_pQ",
        "outputId": "0f79a990-4125-46e2-933e-70e3defc81c4"
      },
      "execution_count": null,
      "outputs": [
        {
          "output_type": "execute_result",
          "data": {
            "text/plain": [
              "{1, 3, 4, 5, 6, 7, 8, 10}"
            ]
          },
          "metadata": {},
          "execution_count": 19
        }
      ]
    },
    {
      "cell_type": "code",
      "source": [
        "s.add(1)  # Attempts to add 1, but it already exists in the set\n",
        "print(s)  # Set remains unchanged because sets do not allow duplicates"
      ],
      "metadata": {
        "colab": {
          "base_uri": "https://localhost:8080/"
        },
        "id": "E1QHNQe0ZFbQ",
        "outputId": "e75f9628-59c0-47cb-d2d6-157bcda547cc"
      },
      "execution_count": null,
      "outputs": [
        {
          "output_type": "stream",
          "name": "stdout",
          "text": [
            "{1, 3, 4, 5, 6, 7, 8, 10}\n"
          ]
        }
      ]
    },
    {
      "cell_type": "markdown",
      "source": [
        "Dectionary"
      ],
      "metadata": {
        "id": "r7UTfLTYY_D-"
      }
    },
    {
      "cell_type": "code",
      "source": [
        "d={\"name\":\"ali\",\"age\":25}\n",
        "\n",
        "d['age']\n"
      ],
      "metadata": {
        "colab": {
          "base_uri": "https://localhost:8080/"
        },
        "id": "pERL-2tUoeDz",
        "outputId": "d26774cd-fdae-443d-f4c9-59a509a81014"
      },
      "execution_count": null,
      "outputs": [
        {
          "output_type": "execute_result",
          "data": {
            "text/plain": [
              "25"
            ]
          },
          "metadata": {},
          "execution_count": 20
        }
      ]
    },
    {
      "cell_type": "code",
      "source": [
        "d.keys()  # Prints the keys of the dictionary"
      ],
      "metadata": {
        "colab": {
          "base_uri": "https://localhost:8080/"
        },
        "id": "OhGnPP_ro2UE",
        "outputId": "dabb0a65-ccaf-4a7a-9490-379c0625e9b6"
      },
      "execution_count": null,
      "outputs": [
        {
          "output_type": "execute_result",
          "data": {
            "text/plain": [
              "dict_keys(['name', 'age'])"
            ]
          },
          "metadata": {},
          "execution_count": 21
        }
      ]
    },
    {
      "cell_type": "code",
      "source": [
        "d.values()  # Prints the values of the dictionary"
      ],
      "metadata": {
        "colab": {
          "base_uri": "https://localhost:8080/"
        },
        "id": "JdFi2F9PpEqT",
        "outputId": "52ecbeba-759b-4f34-cd7e-b2c286257649"
      },
      "execution_count": null,
      "outputs": [
        {
          "output_type": "execute_result",
          "data": {
            "text/plain": [
              "dict_values(['ali', 25])"
            ]
          },
          "metadata": {},
          "execution_count": 22
        }
      ]
    },
    {
      "cell_type": "code",
      "source": [
        "del d['name']  # Deletes the 'name' entry from the dictionary\n",
        "d"
      ],
      "metadata": {
        "colab": {
          "base_uri": "https://localhost:8080/"
        },
        "id": "AbNsVc9_pHAj",
        "outputId": "e2886d0d-74ad-414f-90a4-c9662ccffdcf"
      },
      "execution_count": null,
      "outputs": [
        {
          "output_type": "execute_result",
          "data": {
            "text/plain": [
              "{'age': 25}"
            ]
          },
          "metadata": {},
          "execution_count": 23
        }
      ]
    },
    {
      "cell_type": "markdown",
      "source": [
        "string\n",
        "\n"
      ],
      "metadata": {
        "id": "hF7opdO8agQf"
      }
    },
    {
      "cell_type": "code",
      "source": [
        "FullName=\"ali yazan mohammed\"\n",
        "\n",
        "print(FullName)\n",
        "\n",
        "FullName[10]\n",
        "\n",
        "FullName[0:10:2]\n",
        "\n"
      ],
      "metadata": {
        "colab": {
          "base_uri": "https://localhost:8080/",
          "height": 53
        },
        "id": "uWsd3_WeadTx",
        "outputId": "970ff8a0-ec13-4826-9c55-fce918545cc6"
      },
      "execution_count": null,
      "outputs": [
        {
          "output_type": "stream",
          "name": "stdout",
          "text": [
            "ali yazan mohammed\n"
          ]
        },
        {
          "output_type": "execute_result",
          "data": {
            "text/plain": [
              "'aiyzn'"
            ],
            "application/vnd.google.colaboratory.intrinsic+json": {
              "type": "string"
            }
          },
          "metadata": {},
          "execution_count": 25
        }
      ]
    },
    {
      "cell_type": "code",
      "source": [
        "\n",
        "FullName.split()\n"
      ],
      "metadata": {
        "colab": {
          "base_uri": "https://localhost:8080/"
        },
        "id": "H5hex_S3c0gW",
        "outputId": "9834099a-98da-4373-cf92-953d8b1959c2"
      },
      "execution_count": null,
      "outputs": [
        {
          "output_type": "execute_result",
          "data": {
            "text/plain": [
              "['ali', 'yazan', 'mohammed']"
            ]
          },
          "metadata": {},
          "execution_count": 26
        }
      ]
    },
    {
      "cell_type": "code",
      "source": [
        "txt=\"computer engineering, medical engineering, electrical engineering\"\n",
        "txt.split(\",\")"
      ],
      "metadata": {
        "colab": {
          "base_uri": "https://localhost:8080/"
        },
        "id": "WjGwh914c3hg",
        "outputId": "412c4f2b-8432-4875-c163-43c3b199b409"
      },
      "execution_count": null,
      "outputs": [
        {
          "output_type": "execute_result",
          "data": {
            "text/plain": [
              "['computer engineering', ' medical engineering', ' electrical engineering']"
            ]
          },
          "metadata": {},
          "execution_count": 27
        }
      ]
    }
  ]
}