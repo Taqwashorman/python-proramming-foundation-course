{
  "nbformat": 4,
  "nbformat_minor": 0,
  "metadata": {
    "colab": {
      "provenance": [],
      "collapsed_sections": [
        "0JvUBjLChBWl"
      ]
    },
    "kernelspec": {
      "name": "python3",
      "display_name": "Python 3"
    },
    "language_info": {
      "name": "python"
    }
  },
  "cells": [
    {
      "cell_type": "markdown",
      "source": [
        "# functions"
      ],
      "metadata": {
        "id": "0JvUBjLChBWl"
      }
    },
    {
      "cell_type": "code",
      "execution_count": null,
      "metadata": {
        "id": "ugSUzwGGSejv"
      },
      "outputs": [],
      "source": [
        "#create function\n",
        "def hello():\n",
        "  print(\"Hello, World!\")"
      ]
    },
    {
      "cell_type": "code",
      "source": [
        "#call function\n",
        "hello()"
      ],
      "metadata": {
        "colab": {
          "base_uri": "https://localhost:8080/"
        },
        "id": "0Tt2ujTXZSrk",
        "outputId": "d1e6782e-39da-4c37-dc32-86673c0895a9"
      },
      "execution_count": null,
      "outputs": [
        {
          "output_type": "stream",
          "name": "stdout",
          "text": [
            "Hello, World!\n"
          ]
        }
      ]
    },
    {
      "cell_type": "code",
      "source": [
        "#create functionc with parameters(input)\n",
        "def hello(name):\n",
        "  print(\"hello\", name)\n"
      ],
      "metadata": {
        "id": "KYb9_sOQZrNW"
      },
      "execution_count": null,
      "outputs": []
    },
    {
      "cell_type": "code",
      "source": [
        "#call function\n",
        "hello(\"omar\")"
      ],
      "metadata": {
        "colab": {
          "base_uri": "https://localhost:8080/"
        },
        "id": "KVgY9YUvaYvp",
        "outputId": "c37218e4-c2d8-4546-95e7-3cacc8ff3f34"
      },
      "execution_count": null,
      "outputs": [
        {
          "output_type": "stream",
          "name": "stdout",
          "text": [
            "hello omar\n"
          ]
        }
      ]
    },
    {
      "cell_type": "code",
      "source": [
        "#create function for summing two numbers\n",
        "def total(num1,num2):\n",
        "  print(num1+num2)"
      ],
      "metadata": {
        "id": "iT6iWTUvaaQt"
      },
      "execution_count": null,
      "outputs": []
    },
    {
      "cell_type": "code",
      "source": [
        "#call function\n",
        "total(5,6)"
      ],
      "metadata": {
        "colab": {
          "base_uri": "https://localhost:8080/"
        },
        "id": "Dp9v_tmgauYo",
        "outputId": "74499a3c-8d18-44d2-eaed-1d2c9c57570b"
      },
      "execution_count": null,
      "outputs": [
        {
          "output_type": "stream",
          "name": "stdout",
          "text": [
            "11\n"
          ]
        }
      ]
    },
    {
      "cell_type": "code",
      "source": [
        "#create function for grading\n",
        "def calculate_grade(degrees):\n",
        "  grades = []                #empty list to store values\n",
        "  for i in degrees:\n",
        "    if i >= 90:\n",
        "      grades.append(\"A\")     #append: adds value to list\n",
        "    elif i >= 80:\n",
        "      grades.append(\"B\")\n",
        "    elif i >= 70:\n",
        "      grades.append(\"C\")\n",
        "    elif i >= 60:\n",
        "      grades.append(\"D\")\n",
        "    else:\n",
        "      grades.append(\"F\")\n",
        "  print(grades)\n"
      ],
      "metadata": {
        "id": "HQGt8seEa1Br"
      },
      "execution_count": null,
      "outputs": []
    },
    {
      "cell_type": "code",
      "source": [
        "#call function\n",
        "calculate_grade([90,85,32,78,90])"
      ],
      "metadata": {
        "colab": {
          "base_uri": "https://localhost:8080/"
        },
        "id": "-MBCX4KFcIbv",
        "outputId": "d14fd4bd-cd67-4420-e8aa-711cb5ed11e6"
      },
      "execution_count": null,
      "outputs": [
        {
          "output_type": "stream",
          "name": "stdout",
          "text": [
            "['A', 'B', 'F', 'C', 'A']\n"
          ]
        }
      ]
    },
    {
      "cell_type": "markdown",
      "source": [
        "# Built in Functions"
      ],
      "metadata": {
        "id": "1BQoR-wkhH9U"
      }
    },
    {
      "cell_type": "code",
      "source": [
        "#first function we used\n",
        "print(\"Hello, World!\")"
      ],
      "metadata": {
        "colab": {
          "base_uri": "https://localhost:8080/"
        },
        "id": "qfu5RP6XfGf8",
        "outputId": "13c1fbc3-5076-4538-9e55-a2769fe71867"
      },
      "execution_count": null,
      "outputs": [
        {
          "output_type": "stream",
          "name": "stdout",
          "text": [
            "Hello, World!\n"
          ]
        }
      ]
    },
    {
      "cell_type": "code",
      "source": [
        "#zip: pairs elements from multiple list into  one list\n",
        "a=[1,2,3]\n",
        "b=[\"A\",\"B\",\"C\"]\n",
        "list(zip(a,b))"
      ],
      "metadata": {
        "colab": {
          "base_uri": "https://localhost:8080/"
        },
        "id": "sSQweQNjhYKx",
        "outputId": "9853cbc3-5a3b-45a0-b1dd-8dd6bac70c45"
      },
      "execution_count": null,
      "outputs": [
        {
          "output_type": "execute_result",
          "data": {
            "text/plain": [
              "[(1, 'A'), (2, 'B'), (3, 'C')]"
            ]
          },
          "metadata": {},
          "execution_count": 36
        }
      ]
    },
    {
      "cell_type": "code",
      "source": [
        "#split: splits a string into a list\n",
        "FullName=\"ali yazan mohammed\""
      ],
      "metadata": {
        "colab": {
          "base_uri": "https://localhost:8080/"
        },
        "id": "-BhCqkYDFh7v",
        "outputId": "db283f8d-1cab-4e0a-ca03-f129b73cf31c"
      },
      "execution_count": null,
      "outputs": [
        {
          "output_type": "stream",
          "name": "stdout",
          "text": [
            "ali yazan mohammed\n"
          ]
        }
      ]
    },
    {
      "cell_type": "code",
      "source": [
        "FullName.split()"
      ],
      "metadata": {
        "colab": {
          "base_uri": "https://localhost:8080/"
        },
        "id": "KQGTp_S5FpPx",
        "outputId": "b72cd661-efb7-4e3c-f4ac-d3a642a297ab"
      },
      "execution_count": null,
      "outputs": [
        {
          "output_type": "execute_result",
          "data": {
            "text/plain": [
              "['ali', 'yazan', 'mohammed']"
            ]
          },
          "metadata": {},
          "execution_count": 43
        }
      ]
    },
    {
      "cell_type": "code",
      "source": [
        "txt=\"computer engineering; medical engineering; electrical engineering\"\n",
        "txt.split(\";\")"
      ],
      "metadata": {
        "colab": {
          "base_uri": "https://localhost:8080/"
        },
        "id": "UKBF-tFKFrkf",
        "outputId": "d13652cb-447e-44db-ee76-c2ca613f75c3"
      },
      "execution_count": null,
      "outputs": [
        {
          "output_type": "execute_result",
          "data": {
            "text/plain": [
              "['computer engineering', ' medical engineering', ' electrical engineering']"
            ]
          },
          "metadata": {},
          "execution_count": 44
        }
      ]
    },
    {
      "cell_type": "markdown",
      "source": [
        "#Error handling"
      ],
      "metadata": {
        "id": "rWoNJ_7MF4yl"
      }
    },
    {
      "cell_type": "code",
      "source": [
        "# Basic input and output\n",
        "num= int(input(\"enter number\"))\n",
        "print(num)"
      ],
      "metadata": {
        "colab": {
          "base_uri": "https://localhost:8080/"
        },
        "id": "5heZQSBSF4Bi",
        "outputId": "f89de89b-f3eb-488d-bc95-983542be0dcd"
      },
      "execution_count": null,
      "outputs": [
        {
          "output_type": "stream",
          "name": "stdout",
          "text": [
            "enter number5\n",
            "5\n"
          ]
        }
      ]
    },
    {
      "cell_type": "code",
      "source": [
        "#try a invalid input and there will be an error(ValueError) so we use try and except for handling errors\n",
        "num=int(input(\"enter number\"))\n",
        "print(num)"
      ],
      "metadata": {
        "colab": {
          "base_uri": "https://localhost:8080/",
          "height": 176
        },
        "id": "4DwG5N65GeTw",
        "outputId": "ab25a485-68ab-4579-ea3d-5bb7871d1b5d"
      },
      "execution_count": null,
      "outputs": [
        {
          "name": "stdout",
          "output_type": "stream",
          "text": [
            "enter numbera\n"
          ]
        },
        {
          "output_type": "error",
          "ename": "ValueError",
          "evalue": "invalid literal for int() with base 10: 'a'",
          "traceback": [
            "\u001b[0;31m---------------------------------------------------------------------------\u001b[0m",
            "\u001b[0;31mValueError\u001b[0m                                Traceback (most recent call last)",
            "\u001b[0;32m<ipython-input-47-954a61ba5492>\u001b[0m in \u001b[0;36m<cell line: 1>\u001b[0;34m()\u001b[0m\n\u001b[0;32m----> 1\u001b[0;31m \u001b[0mnum\u001b[0m\u001b[0;34m=\u001b[0m\u001b[0mint\u001b[0m\u001b[0;34m(\u001b[0m\u001b[0minput\u001b[0m\u001b[0;34m(\u001b[0m\u001b[0;34m\"enter number\"\u001b[0m\u001b[0;34m)\u001b[0m\u001b[0;34m)\u001b[0m\u001b[0;34m\u001b[0m\u001b[0;34m\u001b[0m\u001b[0m\n\u001b[0m\u001b[1;32m      2\u001b[0m \u001b[0mprint\u001b[0m\u001b[0;34m(\u001b[0m\u001b[0mnum\u001b[0m\u001b[0;34m)\u001b[0m\u001b[0;34m\u001b[0m\u001b[0;34m\u001b[0m\u001b[0m\n",
            "\u001b[0;31mValueError\u001b[0m: invalid literal for int() with base 10: 'a'"
          ]
        }
      ]
    },
    {
      "cell_type": "markdown",
      "source": [
        "يتم استخدام\n",
        "\n",
        "try و except\n",
        "\n",
        "لمعالجة الأخطاء المحتملة في البرنامج دون أن يتوقف فجأة\n",
        "\n",
        "\n",
        "الهدف هو منع تعطل البرنامج ومعالجة\n",
        "الأخطاء بطريقة سليمة"
      ],
      "metadata": {
        "id": "sW0nabPgITTD"
      }
    },
    {
      "cell_type": "code",
      "source": [
        "#try and except for handling errors because of invalid input\n",
        "try:\n",
        "  num=int(input(\"enter number\"))\n",
        "  print(num)\n",
        "except:\n",
        "  print(\"invalid input\")"
      ],
      "metadata": {
        "colab": {
          "base_uri": "https://localhost:8080/"
        },
        "id": "nLBDrkIOGjWQ",
        "outputId": "32758fad-b722-4b95-d5bd-541b78eedfdc"
      },
      "execution_count": null,
      "outputs": [
        {
          "output_type": "stream",
          "name": "stdout",
          "text": [
            "enter numbera\n",
            "invalid input\n"
          ]
        }
      ]
    },
    {
      "cell_type": "code",
      "source": [
        "#Handle a specific error (ValueError) if the input is not a valid integertry:\n",
        "try:\n",
        "  num=int(input(\"enter number \"))\n",
        "  print(num)\n",
        "except ValueError:\n",
        " print(\"invalid input\")\n",
        "print(\"done\")                # Always print \"done\" after the try-except block"
      ],
      "metadata": {
        "colab": {
          "base_uri": "https://localhost:8080/"
        },
        "id": "8wAyDK4eJLoQ",
        "outputId": "d66ceff3-7bd0-4fc1-b2eb-7fec4013c428"
      },
      "execution_count": 6,
      "outputs": [
        {
          "output_type": "stream",
          "name": "stdout",
          "text": [
            "enter numbera\n",
            "invalid input\n",
            "done\n"
          ]
        }
      ]
    },
    {
      "cell_type": "code",
      "source": [
        "#Handle a specific error (ZeroDivisionError) if the input is not a valid integertry:\n",
        "try:\n",
        "  num=int(input(\"enter number \"))\n",
        "  x=5/num\n",
        "  print(num)\n",
        "except ZeroDivisionError:\n",
        " print(\"invalid input\")\n",
        "print(\"done\")                 # Always print \"done\" after the try-except block"
      ],
      "metadata": {
        "colab": {
          "base_uri": "https://localhost:8080/"
        },
        "id": "pUlBFQGSulrC",
        "outputId": "24b9c85e-733c-4b80-808f-b15acc681d7a"
      },
      "execution_count": 8,
      "outputs": [
        {
          "output_type": "stream",
          "name": "stdout",
          "text": [
            "enter number0\n",
            "invalid input\n",
            "done\n"
          ]
        }
      ]
    },
    {
      "cell_type": "code",
      "source": [
        "## Multiple specific error handling and using else for other errors\n",
        "try:\n",
        "  num=int(input(\"enter number \"))\n",
        "  x=5/num\n",
        "except ValueError:                 # Handle invalid input\n",
        "    print(\"invalid input\")\n",
        "except ZeroDivisionError:          # Handle division by zero error\n",
        "    print(\"cannot divide by zero\")"
      ],
      "metadata": {
        "colab": {
          "base_uri": "https://localhost:8080/"
        },
        "id": "ghjU-JyQu9w2",
        "outputId": "ff05d563-a050-4aa2-a21c-6decd8ac2b3e"
      },
      "execution_count": 9,
      "outputs": [
        {
          "output_type": "stream",
          "name": "stdout",
          "text": [
            "enter numbera\n",
            "invalid input\n"
          ]
        }
      ]
    },
    {
      "cell_type": "code",
      "source": [
        "## Multiple specific error handling and using else for other errors\n",
        "try:\n",
        "  num=int(input(\"enter number \"))\n",
        "  x=5/num\n",
        "except ValueError:                 # Handle invalid input\n",
        "    print(\"invalid input\")\n",
        "except ZeroDivisionError:          # Handle division by zero error\n",
        "    print(\"cannot divide by zero\")\n",
        "else:\n",
        "    print(\"none of the above\")\n",
        "print(\"done\")                      # Always print \"done\" after the try-except block"
      ],
      "metadata": {
        "id": "RYdcu_dSI0hr",
        "colab": {
          "base_uri": "https://localhost:8080/"
        },
        "outputId": "b6176f4c-cd70-4b0b-be54-f6edae231a65"
      },
      "execution_count": 4,
      "outputs": [
        {
          "output_type": "stream",
          "name": "stdout",
          "text": [
            "enter number0\n",
            "cannot divide by zero\n",
            "done\n"
          ]
        }
      ]
    }
  ]
}